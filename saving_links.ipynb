{
 "cells": [
  {
   "cell_type": "code",
   "execution_count": 22,
   "metadata": {},
   "outputs": [],
   "source": [
    "from bs4 import BeautifulSoup\n",
    "import requests\n",
    "import json"
   ]
  },
  {
   "cell_type": "code",
   "execution_count": 23,
   "metadata": {},
   "outputs": [],
   "source": [
    "url='https://www.coindesk.com/'\n",
    "root= 'https://www.coindesk.com/'"
   ]
  },
  {
   "cell_type": "code",
   "execution_count": 24,
   "metadata": {},
   "outputs": [
    {
     "name": "stdout",
     "output_type": "stream",
     "text": [
      "200\n"
     ]
    }
   ],
   "source": [
    "page=requests.get(url)\n",
    "#Проверка подключения\n",
    "print(page.status_code)\n",
    "content = page.text\n",
    "soup= BeautifulSoup(content, 'lxml')\n",
    "\n",
    "allfd= soup.find_all('article', class_='response_item')\n",
    "\n",
    "links=[]\n",
    "for href in allfd:\n",
    "    links.append(href.find('a',href=True)['href'])\n",
    "with open ('banks_one_page.json', 'a+', encoding=\"utf-8\") as file:\n",
    "    links\n",
    "    json.dump(links,file, indent=4)"
   ]
  }
 ],
 "metadata": {
  "kernelspec": {
   "display_name": "Python 3",
   "language": "python",
   "name": "python3"
  },
  "language_info": {
   "codemirror_mode": {
    "name": "ipython",
    "version": 3
   },
   "file_extension": ".py",
   "mimetype": "text/x-python",
   "name": "python",
   "nbconvert_exporter": "python",
   "pygments_lexer": "ipython3",
   "version": "3.12.3"
  }
 },
 "nbformat": 4,
 "nbformat_minor": 2
}
